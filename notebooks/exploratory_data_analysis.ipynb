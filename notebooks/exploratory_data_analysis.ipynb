{
 "cells": [
  {
   "cell_type": "code",
   "execution_count": 2,
   "id": "0d0c75a2-fffb-4414-90bc-7c96c876764f",
   "metadata": {},
   "outputs": [],
   "source": [
    "# Import the required libraries\n",
    "\n",
    "import numpy as np\n",
    "import pandas as pd\n",
    "\n",
    "%matplotlib inline\n",
    "import matplotlib.pyplot as plt\n",
    "\n",
    "import seaborn as sns"
   ]
  },
  {
   "cell_type": "code",
   "execution_count": 3,
   "id": "091f5f73-608b-4bcf-ae6e-b1fb9a90338c",
   "metadata": {},
   "outputs": [
    {
     "name": "stdout",
     "output_type": "stream",
     "text": [
      "Data Directory already exists\n",
      "Data already extracted, Skipping Extraction\n"
     ]
    }
   ],
   "source": [
    "#Extracting the contents of the zipfile\n",
    "import zipfile\n",
    "import os\n",
    "\n",
    "def unzipfile(filepath: str):\n",
    "    \"\"\"\n",
    "    This function takes in the path to the zip file and extracts it to the data folder\n",
    "    \"\"\"\n",
    "    data_path =\"../data\"\n",
    "    if not os.path.exists(str(data_path)):\n",
    "        # Create a directory for the extracted data\n",
    "        print(\"Creating data directory...\")\n",
    "        os.makedirs(data_path, exist_ok=True)\n",
    "    else:\n",
    "        print(\"Data Directory already exists\")\n",
    "        \n",
    "    # Extract the contents of the file\n",
    "    if not os.listdir(data_path):\n",
    "        print(\"Extracting files...\")\n",
    "        with zipfile.ZipFile(filepath, 'r') as zip_ref:\n",
    "            zip_ref.extractall(data_path)\n",
    "            \n",
    "    else:\n",
    "        print(\"Data already extracted, Skipping Extraction\")\n",
    "        \n",
    "        \n",
    "unzipfile(filepath=\"../Partcipants_Dataset_DSSC_2024.zip\")"
   ]
  },
  {
   "cell_type": "code",
   "execution_count": 4,
   "id": "acb662ba-2440-481a-9bc6-146572dc7e6c",
   "metadata": {},
   "outputs": [],
   "source": [
    "# Import the dataset\n",
    "\n",
    "train = pd.read_csv(\"../data/train.csv\")\n",
    "test = pd.read_csv(\"../data/test.csv\")\n",
    "submissions = pd.read_csv(\"../data/submission.csv\")"
   ]
  },
  {
   "cell_type": "code",
   "execution_count": 5,
   "id": "9ce7d897-1398-460d-9763-eb3d8c6f5493",
   "metadata": {},
   "outputs": [
    {
     "data": {
      "text/html": [
       "<div>\n",
       "<style scoped>\n",
       "    .dataframe tbody tr th:only-of-type {\n",
       "        vertical-align: middle;\n",
       "    }\n",
       "\n",
       "    .dataframe tbody tr th {\n",
       "        vertical-align: top;\n",
       "    }\n",
       "\n",
       "    .dataframe thead th {\n",
       "        text-align: right;\n",
       "    }\n",
       "</style>\n",
       "<table border=\"1\" class=\"dataframe\">\n",
       "  <thead>\n",
       "    <tr style=\"text-align: right;\">\n",
       "      <th></th>\n",
       "      <th>Label</th>\n",
       "      <th>Content</th>\n",
       "    </tr>\n",
       "  </thead>\n",
       "  <tbody>\n",
       "    <tr>\n",
       "      <th>0</th>\n",
       "      <td>2</td>\n",
       "      <td>second counting input 5 2 which receives inter...</td>\n",
       "    </tr>\n",
       "    <tr>\n",
       "      <th>1</th>\n",
       "      <td>4</td>\n",
       "      <td>extremely low temperature of the chips in cold...</td>\n",
       "    </tr>\n",
       "    <tr>\n",
       "      <th>2</th>\n",
       "      <td>3</td>\n",
       "      <td>of the basic ammonium salt of the carboxyl ate...</td>\n",
       "    </tr>\n",
       "    <tr>\n",
       "      <th>3</th>\n",
       "      <td>9</td>\n",
       "      <td>18 u2033 is provided which is axially supporte...</td>\n",
       "    </tr>\n",
       "    <tr>\n",
       "      <th>4</th>\n",
       "      <td>2</td>\n",
       "      <td>to an u201c inner surface u201d means the surf...</td>\n",
       "    </tr>\n",
       "  </tbody>\n",
       "</table>\n",
       "</div>"
      ],
      "text/plain": [
       "   Label                                            Content\n",
       "0      2  second counting input 5 2 which receives inter...\n",
       "1      4  extremely low temperature of the chips in cold...\n",
       "2      3  of the basic ammonium salt of the carboxyl ate...\n",
       "3      9  18 u2033 is provided which is axially supporte...\n",
       "4      2  to an u201c inner surface u201d means the surf..."
      ]
     },
     "execution_count": 5,
     "metadata": {},
     "output_type": "execute_result"
    }
   ],
   "source": [
    "# view the first five rows of the dataset\n",
    "train.head()"
   ]
  },
  {
   "cell_type": "code",
   "execution_count": 6,
   "id": "51b7ed7e-f5a5-4b28-b9ee-4a52f37a7ca5",
   "metadata": {},
   "outputs": [
    {
     "name": "stdout",
     "output_type": "stream",
     "text": [
      "<class 'pandas.core.frame.DataFrame'>\n",
      "RangeIndex: 59119 entries, 0 to 59118\n",
      "Data columns (total 2 columns):\n",
      " #   Column   Non-Null Count  Dtype \n",
      "---  ------   --------------  ----- \n",
      " 0   Label    59119 non-null  int64 \n",
      " 1   Content  59119 non-null  object\n",
      "dtypes: int64(1), object(1)\n",
      "memory usage: 923.9+ KB\n"
     ]
    }
   ],
   "source": [
    "# Get the informational statistics of our dataset\n",
    "train.info()"
   ]
  },
  {
   "cell_type": "code",
   "execution_count": 7,
   "id": "f3f9675f",
   "metadata": {},
   "outputs": [
    {
     "name": "stdout",
     "output_type": "stream",
     "text": [
      "Number of samples in our dataset: 59119\n"
     ]
    }
   ],
   "source": [
    "# Find the total number of samples in our dataset\n",
    "print(f\"Number of samples in our dataset: {len(train)}\")"
   ]
  },
  {
   "cell_type": "code",
   "execution_count": 10,
   "id": "71646aae",
   "metadata": {},
   "outputs": [
    {
     "name": "stdout",
     "output_type": "stream",
     "text": [
      "Number of columns in our dataset: 2\n",
      "Columns: ['Label', 'Content']\n"
     ]
    }
   ],
   "source": [
    "# find the number of columns and their names in our dataset\n",
    "print(f\"Number of columns in our dataset: {len(train.columns)}\")\n",
    "\n",
    "print(f\"Columns: {list(train.columns)}\")"
   ]
  },
  {
   "cell_type": "code",
   "execution_count": 11,
   "id": "17e9f030",
   "metadata": {},
   "outputs": [
    {
     "name": "stdout",
     "output_type": "stream",
     "text": [
      "Number of unique values in the Label: 9\n"
     ]
    }
   ],
   "source": [
    "# Find the total number of unique values in the Label\n",
    "print(f\"Number of unique values in the Label: {len(train.Label.unique())}\")"
   ]
  },
  {
   "cell_type": "code",
   "execution_count": 12,
   "id": "ba99bb5a",
   "metadata": {},
   "outputs": [
    {
     "data": {
      "text/plain": [
       "Label\n",
       "7    7143\n",
       "8    7102\n",
       "6    6887\n",
       "2    6816\n",
       "1    6756\n",
       "5    6467\n",
       "3    6059\n",
       "9    5961\n",
       "4    5928\n",
       "Name: count, dtype: int64"
      ]
     },
     "execution_count": 12,
     "metadata": {},
     "output_type": "execute_result"
    }
   ],
   "source": [
    "# Find the count of each unique value in the Label column\n",
    "train.Label.value_counts()"
   ]
  },
  {
   "cell_type": "markdown",
   "id": "a0bb3c3c",
   "metadata": {},
   "source": [
    "## Data Validation\n",
    "\n",
    "This section contains various methods to check the quality of the data\n",
    "\n",
    "* Checking duplicate values\n",
    "* Checking missing values"
   ]
  },
  {
   "cell_type": "code",
   "execution_count": 25,
   "id": "d7c8a261",
   "metadata": {},
   "outputs": [
    {
     "data": {
      "text/plain": [
       "0"
      ]
     },
     "execution_count": 25,
     "metadata": {},
     "output_type": "execute_result"
    }
   ],
   "source": [
    "# Checking for duplicate values\n",
    "train.duplicated().sum()"
   ]
  },
  {
   "cell_type": "markdown",
   "id": "b561227a",
   "metadata": {},
   "source": [
    "Aweseone, Our dataset doesn't contain any duplicate values, Let's check for missing values"
   ]
  },
  {
   "cell_type": "code",
   "execution_count": 26,
   "id": "c3e5a2f2",
   "metadata": {},
   "outputs": [
    {
     "data": {
      "text/plain": [
       "Label      0\n",
       "Content    0\n",
       "dtype: int64"
      ]
     },
     "execution_count": 26,
     "metadata": {},
     "output_type": "execute_result"
    }
   ],
   "source": [
    "# Check for missing values\n",
    "train.isnull().sum()"
   ]
  },
  {
   "cell_type": "markdown",
   "id": "ab4ab9d7",
   "metadata": {},
   "source": [
    "Our dataset also don't have any missing values"
   ]
  },
  {
   "cell_type": "markdown",
   "id": "ced41f40",
   "metadata": {},
   "source": [
    "## Data Visualization \n",
    "\n",
    "This section helps us to analyze the dataset visually"
   ]
  },
  {
   "cell_type": "code",
   "execution_count": 23,
   "id": "34cadf5f",
   "metadata": {},
   "outputs": [
    {
     "data": {
      "image/png": "[encoded data removed]",
      "text/plain": [
       "<Figure size 1000x700 with 1 Axes>"
      ]
     },
     "metadata": {},
     "output_type": "display_data"
    }
   ],
   "source": [
    "\n",
    "plt.figure(figsize=(10, 7))\n",
    "plt.bar(range(0, 9), train.Label.value_counts().values)\n",
    "plt.title(\"Distribution of Different labels in our dataset\")\n",
    "plt.show()"
   ]
  },
  {
   "cell_type": "markdown",
   "id": "b5e897b2",
   "metadata": {},
   "source": [
    "## Data Preprocessing"
   ]
  },
  {
   "cell_type": "markdown",
   "id": "ea557a21",
   "metadata": {},
   "source": []
  }
 ],
 "metadata": {
  "kernelspec": {
   "display_name": "Python 3 (ipykernel)",
   "language": "python",
   "name": "python3"
  },
  "language_info": {
   "codemirror_mode": {
    "name": "ipython",
    "version": 3
   },
   "file_extension": ".py",
   "mimetype": "text/x-python",
   "name": "python",
   "nbconvert_exporter": "python",
   "pygments_lexer": "ipython3",
   "version": "3.11.8"
  }
 },
 "nbformat": 4,
 "nbformat_minor": 5
}
